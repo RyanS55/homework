{
 "cells": [
  {
   "cell_type": "markdown",
   "metadata": {},
   "source": [
    "What is an algorithm? \n",
    "1. An algorithm is a set of instructions that is designed to accomplish a task.\n",
    "2. Variable names may not start with certain characters - name two.\n",
    "special characters or numbers\n"
   ]
  },
  {
   "cell_type": "markdown",
   "metadata": {},
   "source": [
    "3. What is a semantic error?\n",
    "text which is grammatically correct but doesn't make any sense. \n",
    "4. What is the #1 rule of coding / debugging?\n",
    "complexity does not lead to efficiency"
   ]
  },
  {
   "cell_type": "markdown",
   "metadata": {},
   "source": [
    "5. List 5 Python reserved words.\n",
    "break, for, not, class, from"
   ]
  },
  {
   "cell_type": "code",
   "execution_count": 2,
   "metadata": {},
   "outputs": [
    {
     "name": "stdout",
     "output_type": "stream",
     "text": [
      "Ryan\n",
      "Ice Cream\n",
      "Data Analyst\n"
     ]
    }
   ],
   "source": [
    "print(\"Ryan\")\n",
    "print(\"Ice Cream\")\n",
    "print(\"Data Analyst\")"
   ]
  },
  {
   "cell_type": "code",
   "execution_count": 6,
   "metadata": {},
   "outputs": [
    {
     "name": "stdout",
     "output_type": "stream",
     "text": [
      "8\n",
      "e\n"
     ]
    }
   ],
   "source": [
    "var1=\"Baseball\"\n",
    "var2=\"55\"\n",
    "var3={400, \"feet\"}\n",
    "var4=True\n",
    "var5= [\"Cardinals\", \"Cubs\", \"Yankees\", \"Red Sox\"]\n",
    "str1 = len(var1)\n",
    "print(str1)\n",
    "print(var1[3])\n"
   ]
  },
  {
   "cell_type": "code",
   "execution_count": 20,
   "metadata": {},
   "outputs": [
    {
     "name": "stdout",
     "output_type": "stream",
     "text": [
      "ing Data Analytics \n",
      "Learning Data Analytics and Python is great!\n",
      "Learning Data Analytics and Python is Awesome!\n"
     ]
    }
   ],
   "source": [
    "\"Learning Data Analytics and Python is Awesome!\"\n",
    "savvy = \"Learning Data Analytics and Python is Awesome!\"\n",
    "print(savvy[5:24])\n",
    "print(savvy.replace(\"Awesome\",\"great\"))\n",
    "print(savvy)\n"
   ]
  },
  {
   "cell_type": "code",
   "execution_count": 94,
   "metadata": {},
   "outputs": [
    {
     "name": "stdout",
     "output_type": "stream",
     "text": [
      "Hi my name is {}, I am {} inches tall, and {} today.\n",
      "Hi my name is Ryan, I am 68.5 inches tall, and 29 today.\n"
     ]
    }
   ],
   "source": [
    "name=\"Ryan\"\n",
    "length=68.5\n",
    "age=29\n",
    "miniBio=\"Hi my name is {}, I am {} inches tall, and {} today.\"\n",
    "print(miniBio)\n",
    "print(miniBio.format(name,length,age))\n",
    "dec1 = float(age)\n",
    "\n"
   ]
  },
  {
   "cell_type": "code",
   "execution_count": null,
   "metadata": {},
   "outputs": [],
   "source": []
  },
  {
   "cell_type": "code",
   "execution_count": 81,
   "metadata": {},
   "outputs": [
    {
     "name": "stdout",
     "output_type": "stream",
     "text": [
      "7\n",
      "[2011, ['homeruns', 'doubles', 'triples'], 762]\n",
      "['blue', 'green', 'purple', 'red,orange']\n"
     ]
    }
   ],
   "source": [
    "rdtlist1=[\"Baseball\", \"R57\", 2011, [\"homeruns\", \"doubles\", \"triples\"], 762]\n",
    "rdtlist1.append(\"singles\")\n",
    "rdtlist1.append(\"strikeouts\")\n",
    "rdtlistlen=len(rdtlist1)\n",
    "print(rdtlistlen)\n",
    "rdtlist2=rdtlist1[2:5]\n",
    "print(rdtlist2)\n",
    "rdtlist1.extend(rdtlist2)\n",
    "simList=[\"blue\", \"red,\" \"orange\", \"green\", \"purple\"]\n",
    "simList.sort()\n",
    "print(simList)\n",
    "rdtlist3=simList.copy()\n",
    "rdtlist4=[rdtlist2+rdtlist3]\n",
    "\n"
   ]
  },
  {
   "cell_type": "code",
   "execution_count": 97,
   "metadata": {},
   "outputs": [
    {
     "name": "stdout",
     "output_type": "stream",
     "text": [
      "('cardinals', 'cubs', 'yankees', 'dodgers', 'mariners', 'cardinals', 'cubs', 'yankees', 'dodgers', 'mariners', 'cardinals', 'cubs', 'yankees', 'dodgers', 'mariners')\n",
      "['cardinals', 'cardinals', 'cardinals', 'cubs', 'cubs', 'cubs', 'dodgers', 'dodgers', 'dodgers', 'mariners', 'mariners', 'mariners', 'yankees', 'yankees', 'yankees']\n",
      "rockies\n",
      "braves\n",
      "royals\n",
      "twins\n",
      "(50,)\n",
      "('cardinals', 'cubs', 'yankees', 'dodgers', 'mariners', 'cardinals', 'cubs', 'yankees', 'dodgers', 'mariners', 'cardinals', 'cubs', 'yankees', 'dodgers', 'mariners', 'cardinals', 'cubs', 'yankees', 'mariners')\n"
     ]
    }
   ],
   "source": [
    "mytuple1 = (\"cardinals\",\"cubs\",\"yankees\",\"dodgers\", \"mariners\")\n",
    "mytuple2 = mytuple1 * 3\n",
    "print(mytuple2)\n",
    "print(sorted(mytuple2))\n",
    "mytuple3 = (\"cardinals\",\"cubs\",\"yankees\",\"mariners\")\n",
    "mytuple3 = (\"cardinals\",\"cubs\",\"yankees\",\"mariners\")\n",
    "mytuple4= (\"rockies\", \"braves\", \"royals\", \"twins\")\n",
    "print(\"rockies\")\n",
    "print(\"braves\")\n",
    "print(\"royals\")\n",
    "print(\"twins\")\n",
    "mytuple4 = (50,)\n",
    "print(mytuple4)\n",
    "mytuple5 = mytuple2 + mytuple3\n",
    "print(mytuple5)"
   ]
  },
  {
   "cell_type": "code",
   "execution_count": 57,
   "metadata": {},
   "outputs": [
    {
     "name": "stdout",
     "output_type": "stream",
     "text": [
      "{'Baseball', 'Football', 'Basketball', 'watermelon', 'kiwi', 'peach'}\n",
      "{'Baseball', 'Football', 'Basketball', 51, 'watermelon', 'kiwi', 'car', 53, 55, 'peach'}\n",
      "{53, 55}\n",
      "set()\n",
      "{'Baseball', 'Football', 'Basketball', 51, 'watermelon', 'car', 53, 55}\n"
     ]
    }
   ],
   "source": [
    "ryanset1 = {\"Baseball\", \"Basketball\", \"Football\"}\n",
    "ryanset1.add(\"watermelon\")\n",
    "ryanset1.add(\"kiwi\")\n",
    "ryanset1.add(\"peach\")\n",
    "print(ryanset1)\n",
    "ryanset1.add(\"car\")\n",
    "ryanset2 = {51,53,55}\n",
    "ryanset3 = ryanset1.union(ryanset2)\n",
    "print (ryanset3)\n",
    "ryanset2.pop()\n",
    "print(ryanset2)\n",
    "ryanset1.clear()\n",
    "print(ryanset1)\n",
    "ryanset3.discard(\"peach\")\n",
    "ryanset3.remove(\"kiwi\")\n",
    "print(ryanset3)\n"
   ]
  },
  {
   "cell_type": "code",
   "execution_count": 77,
   "metadata": {},
   "outputs": [
    {
     "name": "stdout",
     "output_type": "stream",
     "text": [
      "{'movie': 'the dark knight', 'age': 29, 'genre': 'rap', 'hobby': 'fitness', 'color': 'blue', 'list': [1, 2, 3]}\n"
     ]
    }
   ],
   "source": [
    "ryandict = {\n",
    "    \"movie\": \"the dark knight\",\n",
    "    \"age\": 29,\n",
    "    \"genre\": \"rap\",\n",
    "    \"sport\": \"baseball\",\n",
    "    \"hobby\": \"fitness\",\n",
    "}\n",
    "ryandict.get(\"movie\")\n",
    "ryandict.update({\"sport\":\"Ryan\"})\n",
    "ryandict.update({\"color\":\"blue\"})\n",
    "ryandict.update({\"list\":[1,2,3]})\n",
    "ryandict.keys()\n",
    "ryandict.values()\n",
    "ryandict2 = dict(ryandict)\n",
    "ryandict2.pop(\"sport\")\n",
    "print(ryandict2)\n",
    "ryandict2.clear()\n",
    "\n"
   ]
  }
 ],
 "metadata": {
  "kernelspec": {
   "display_name": "Python 3",
   "language": "python",
   "name": "python3"
  },
  "language_info": {
   "codemirror_mode": {
    "name": "ipython",
    "version": 3
   },
   "file_extension": ".py",
   "mimetype": "text/x-python",
   "name": "python",
   "nbconvert_exporter": "python",
   "pygments_lexer": "ipython3",
   "version": "3.12.3"
  }
 },
 "nbformat": 4,
 "nbformat_minor": 2
}
