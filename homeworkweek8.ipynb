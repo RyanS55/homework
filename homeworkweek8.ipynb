{
 "cells": [
  {
   "cell_type": "markdown",
   "metadata": {},
   "source": [
    "Section 1:1 and 1:2\n",
    "\n",
    "SELECT RTRIM(Accel, \"sec\")\n",
    "FROM evCars"
   ]
  },
  {
   "cell_type": "markdown",
   "metadata": {},
   "source": [
    "Section 1:4\n",
    "\n",
    "UPDATE evCars \n",
    "SET Accel = RTRIM(Accel, ' sec')\n",
    "\n",
    "103 rows were updated"
   ]
  },
  {
   "cell_type": "markdown",
   "metadata": {},
   "source": [
    "Section 1:5\n",
    "\n",
    "Select Accel from evCars"
   ]
  },
  {
   "cell_type": "markdown",
   "metadata": {},
   "source": [
    "Section 1:6\n",
    "ALTER TABLE evCars\n",
    " RENAME Accel TO AccelSec"
   ]
  },
  {
   "cell_type": "markdown",
   "metadata": {},
   "source": [
    "Section 2:1\n",
    "\n",
    " Select TopSpeed from evCars\n"
   ]
  },
  {
   "cell_type": "markdown",
   "metadata": {},
   "source": [
    "Section 2:2\n",
    "Select rtrim (TopSpeed, \"km/h\")\n",
    " FROM evCars"
   ]
  },
  {
   "cell_type": "markdown",
   "metadata": {},
   "source": [
    "Section 2:3\n",
    "Select TopSpeed, rtrim (TopSpeed, \"km/h\") from evCars"
   ]
  },
  {
   "cell_type": "markdown",
   "metadata": {},
   "source": [
    "Section 2:4\n",
    " UPDATE evCars\n",
    " Set TopSpeed= rtrim (TopSpeed, \"km/h\")"
   ]
  },
  {
   "cell_type": "markdown",
   "metadata": {},
   "source": [
    "Section 2:5\n",
    "Select TopSpeed from evCars"
   ]
  },
  {
   "cell_type": "markdown",
   "metadata": {},
   "source": [
    "Section 2:6\n",
    " Select TopSpeed, round (TopSpeed * 0.621371, 1)\n",
    " FROM evCars\n",
    "\n",
    " UPDATE evCars\n",
    " Set TopSpeed=round (TopSpeed * 0.621371, 1)"
   ]
  },
  {
   "cell_type": "markdown",
   "metadata": {},
   "source": [
    "Section 2:7\n",
    " Alter TABLE evCars\n",
    " RENAME TopSpeed to topSpeedMPH\n"
   ]
  },
  {
   "cell_type": "markdown",
   "metadata": {},
   "source": [
    "Section 2:8\n",
    "Select *\n",
    " FROM evCars"
   ]
  },
  {
   "cell_type": "markdown",
   "metadata": {},
   "source": [
    "Section 3:1\n",
    "Select Range\n",
    " FROM evCars"
   ]
  },
  {
   "cell_type": "markdown",
   "metadata": {},
   "source": [
    "Section 3:2\n",
    "Select rtrim (Range, \"km/h\")\n",
    " FROM evCars"
   ]
  },
  {
   "cell_type": "markdown",
   "metadata": {},
   "source": [
    "Section 3:3\n",
    "Select Range, rtrim (Range, \"km/h\") from evCars\n",
    "103 rows returned"
   ]
  },
  {
   "cell_type": "markdown",
   "metadata": {},
   "source": [
    "Section 3:4\n",
    "UPDATE evCars\n",
    " Set Range= rtrim (Range, \"km/h\")"
   ]
  },
  {
   "cell_type": "markdown",
   "metadata": {},
   "source": [
    "Section 3:5\n",
    "Select *\n",
    "from evCars"
   ]
  },
  {
   "cell_type": "markdown",
   "metadata": {},
   "source": [
    "Section 3:6\n",
    " Select Range, round (Range * 0.621371, 1)\n",
    " FROM evCars\n",
    "\n",
    " UPDATE evCars\n",
    " Set Range=round (Range * 0.621371, 1)"
   ]
  },
  {
   "cell_type": "markdown",
   "metadata": {},
   "source": [
    "Section 3:7\n",
    " Alter TABLE evCars\n",
    " RENAME Range to rangeMiles"
   ]
  },
  {
   "cell_type": "markdown",
   "metadata": {},
   "source": [
    "Section 3:8\n",
    "Select *\n",
    "from evCars"
   ]
  },
  {
   "cell_type": "markdown",
   "metadata": {},
   "source": [
    "Section 4:1\n",
    "\n",
    " SELECT Efficiency, FastCharge FROM evCars;\n"
   ]
  },
  {
   "cell_type": "markdown",
   "metadata": {},
   "source": [
    "Section 4:2\n",
    "SELECT Efficiency, TRIM(Efficiency, ' Wh/km') from evCars;\n",
    "SELECT FastCharge, TRIM(FastCharge, ' Wh/km') from evCars;"
   ]
  },
  {
   "cell_type": "markdown",
   "metadata": {},
   "source": [
    "Section 4:3\n",
    "SELECT Efficiency, TRIM(Efficiency, ' Wh/km') from evCars;\n",
    "SELECT FastCharge, TRIM(FastCharge, ' Wh/km') from evCars;"
   ]
  },
  {
   "cell_type": "markdown",
   "metadata": {},
   "source": [
    "Section 4:4\n",
    "UPDATE evCars\n",
    "SET \n",
    "Efficiency = TRIM(Efficiency, ' Wh/km'), \n",
    "FastCharge = Trim(FastCharge, ' Wh/km');"
   ]
  },
  {
   "cell_type": "markdown",
   "metadata": {},
   "source": [
    "Section 4:5\n",
    "SELECT Efficiency, FastCharge FROM evCars;"
   ]
  },
  {
   "cell_type": "markdown",
   "metadata": {},
   "source": [
    "Section 4:6\n",
    "SELECT FastCharge, Round(FastCharge * 0.621371, 1) as OneHourFastChargeMiles\n",
    "From evCars;\n",
    "UPDATE evCars\n",
    "SET \n",
    "    FastCharge = FastCharge * 0.621371;\n",
    "SELECT FastCharge FROM evCars;"
   ]
  },
  {
   "cell_type": "markdown",
   "metadata": {},
   "source": [
    "Section 4:7\n",
    "ALTER TABLE evCars\n",
    "RENAME FastCharge TO OneHourFastChargeMiles;\n",
    "ALTER TABLE evCars\n",
    "RENAME Efficiency TO EfficiencyWHperKM;"
   ]
  },
  {
   "cell_type": "markdown",
   "metadata": {},
   "source": [
    "Section 4:8\n",
    "Select *\n",
    "From evCars"
   ]
  },
  {
   "cell_type": "markdown",
   "metadata": {},
   "source": [
    "Section 5:1\n",
    "SELECT RapidCharge, Count(*)\n",
    "FROM evCars\n",
    "GROUP BY RapidCharge;"
   ]
  },
  {
   "cell_type": "markdown",
   "metadata": {},
   "source": [
    "Section 5:2 5:3\n",
    "UPDATE evCars\n",
    "SET RapidCharge = True WHERE RapidCharge = 'Rapid charging possible';\n",
    "UPDATE evCars\n",
    "SET RapidCharge = False WHERE RapidCharge = 'Rapid charging not possible';"
   ]
  },
  {
   "cell_type": "markdown",
   "metadata": {},
   "source": [
    "Section 6:1\n",
    "SELECT PowerTrain, Count(*)\n",
    "FROM evCars\n",
    "GROUP BY PowerTrain;"
   ]
  },
  {
   "cell_type": "markdown",
   "metadata": {},
   "source": [
    "Section 6:2\n",
    "All Wheel Drive\n",
    "Rear Wheel Drive\n",
    "Front Wheel Drive"
   ]
  },
  {
   "cell_type": "markdown",
   "metadata": {},
   "source": [
    "Section 6:3\n",
    "UPDATE evCars\n",
    "SET PowerTrain = 'AWD' WHERE PowerTrain = 'All Wheel Drive';\n",
    "UPDATE evCars\n",
    "SET PowerTrain = 'FWD' WHERE PowerTrain = 'Front Wheel Drive';\n",
    "UPDATE evCars\n",
    "SET PowerTrain = 'RWD' WHERE PowerTrain = 'Rear Wheel Drive';"
   ]
  },
  {
   "cell_type": "markdown",
   "metadata": {},
   "source": [
    "Section 6:4\n",
    "SELECT PowerTrain, Count(*)\n",
    "FROM evCars\n",
    "GROUP BY PowerTrain;"
   ]
  },
  {
   "cell_type": "markdown",
   "metadata": {},
   "source": [
    "Section 7:1\n",
    "SELECT PriceEuro, ROUND(PriceEuro * 1.09, 2)\n",
    "FROM evCars;"
   ]
  },
  {
   "cell_type": "markdown",
   "metadata": {},
   "source": [
    "Section 7:2\n",
    "UPDATE evCars\n",
    "SET \n",
    "PriceEuro = ROUND(PriceEuro * 1.09, 2);\n",
    "SELECT PriceEuro FROM evCars;"
   ]
  },
  {
   "cell_type": "markdown",
   "metadata": {},
   "source": [
    "Section 7:3\n",
    "ALTER TABLE evCars\n",
    "RENAME PriceEuro TO PriceUSD;"
   ]
  }
 ],
 "metadata": {
  "language_info": {
   "name": "python"
  }
 },
 "nbformat": 4,
 "nbformat_minor": 2
}
