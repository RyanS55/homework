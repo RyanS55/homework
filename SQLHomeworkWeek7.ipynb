{
 "cells": [
  {
   "cell_type": "markdown",
   "metadata": {},
   "source": [
    "Homework 7.1\n",
    "Question 1. \n",
    "Using EVregistry, Write a query to select the ModelYear, Make, and Model off all of the vehicles in the registry.\n",
    "\n",
    "SELECT ModelYear, Make, Model\n",
    "FROM EVRegistry "
   ]
  },
  {
   "cell_type": "markdown",
   "metadata": {},
   "source": [
    "Question 2.\n",
    "Using the EVRegistry table, Write a query that lists all of the unique types of EV's. your reult set should have one column, \n",
    "\n",
    "ElectricVehicleType.\n",
    "SELECT ElectricVehicleType\n",
    "From EVRegistry\n",
    "\n",
    "\n"
   ]
  },
  {
   "cell_type": "markdown",
   "metadata": {},
   "source": [
    "Question 3. \n",
    "Using the EVRegistry, Write a query that shows all of the information on Battery Electric Vehicles (BEV) that are in the registry.\n",
    "\n",
    "SELECT ModelYear, Make, Model, ElectricVehicleType, ElectricRange, BaseMSRP, StateID, VIN, County, City, State, PostalCode, StateID\n",
    "FROM EVRegistry "
   ]
  },
  {
   "cell_type": "markdown",
   "metadata": {},
   "source": [
    "Question 4. \n",
    "Using the EVRegistry, wirte a query that returns the Make and Model of all of the EV's that have a BaseMSRP between 20000 and 35000?\n",
    "\n",
    "SELECT Make, Model\n",
    "From EVRegistry\n",
    "WHERE BaseMSRP BETWEEN 20000 and 35000"
   ]
  },
  {
   "cell_type": "markdown",
   "metadata": {},
   "source": [
    "Homework 7.2\n",
    "Question 1. \n",
    "Using EVRegistry, write a query to find a record where the City attribute is NULL. Return all of the available columns.\n",
    "\n",
    "SELECT *\n",
    "From EVRegistry\n",
    "WHERE City is NULL;"
   ]
  },
  {
   "cell_type": "markdown",
   "metadata": {},
   "source": [
    "Question 2. \n",
    "Write a query to find the make, model, and ElectricVehicleType where the VIN number has that ends in '3E1EA1J'\n",
    "\n",
    "SELECT * \n",
    "FROM EVRegistry\n",
    "WHERE VIN LIKE '%3E1EA1J%' "
   ]
  },
  {
   "cell_type": "markdown",
   "metadata": {},
   "source": [
    "Question 3.\n",
    "Select the ModelYear, make, model, ElectricVehicleType, and range of the Tesla vehicles or cheverolet vehicles in the registry. Order the result set by Make and Model year in from newest to oldest.\n",
    "\n",
    "Select ModelYear, Model, Make, ElectricVehicleType, ElectricRange\n",
    "From EVRegistry\n",
    "Where Make= 'TESLA'\n",
    "Order by Make, ModelYear DESC"
   ]
  },
  {
   "cell_type": "markdown",
   "metadata": {},
   "source": [
    "Question 4.\n",
    "Using EVCharging, Write a query to find out how many many times those stations were used. Order them by the most used to the least used and limit the output to 5 records.\n",
    "\n",
    "SELECT StationID, Count(*) as numUses\n",
    "FROM EVCharging\n",
    "GROUP BY StationID \n",
    "ORDER BY COUNT(*) DESC;\n"
   ]
  },
  {
   "cell_type": "markdown",
   "metadata": {},
   "source": [
    "Question 5.\n",
    "Using EVCharging, For the folks who charged longer than 0.5 hours, show the min and max of the charging time for each user. Your output columns should be userid, minTime, and maxTime. Order this result set by the last two columns respectively.\n",
    "SELECT userId, MIN(chargeTimeHrs) as 'minhours', MAX(chargeTimeHrs) as 'maxHours'\n",
    "\n",
    "FROM EVCharging\n",
    "WHERE chargeTimeHrs > 0.5 \n",
    "GROUP BY userId\n",
    "ORDER BY 2,3"
   ]
  },
  {
   "cell_type": "markdown",
   "metadata": {},
   "source": [
    "Homework 7.3\n",
    "Question 1.\n",
    "Using EVCharging, Which day of the week has the highest average charging time? Round the answer to 2 decimal points.\n",
    "\n",
    "SELECT ROUND(AVG(chargeTimeHrs),2) AS avgtIME, weekday as 'avgChargeTime'\n",
    "FROM EVCharging\n",
    "GROUP by\n",
    "avgChargeTime\n",
    "\n",
    "Answer is Wed 2.94"
   ]
  },
  {
   "cell_type": "markdown",
   "metadata": {},
   "source": [
    "Question 2.\n",
    "Using, EV charging, Find the total power consumed from charging EV's by each User. Return the userId and name the calculated column, totalPower. Round the answer to 2 deciaml points and list the out put in highest to lowest order. Limit the order to the top 15 users.\n",
    "\n",
    "SELECT UserId,Weekday, ROUND(SUM(kwhTotal),2) as 'totalPower'\n",
    "FROM EVcharging\n",
    "GROUP BY UserID, weekday\n",
    "ORDER BY totalPower DESC\n",
    "LIMIT 15; "
   ]
  },
  {
   "cell_type": "markdown",
   "metadata": {},
   "source": [
    "Question 3.\n",
    "Using dimfacility and factCharge, write a query to find out which type of facility (GROUP BY) has the most amount of charging stations. Return type Facility and name the calculated column numStation. Order the result set from highest to lowest number of charging stations.\n",
    "\n",
    "select typeFacility, count(*) as 'numStations' \n",
    "from factCharge \n",
    "inner JOIN\n",
    "dimFacility\n",
    "WHERE\n",
    "dimFacility.FacilityKey = factCharge.facilityID\n",
    "group by typeFacility\n",
    "order by numStations DESC\n",
    "\n"
   ]
  },
  {
   "cell_type": "markdown",
   "metadata": {},
   "source": [
    "Question 4.\n",
    "In your own words, Briefly explain Primary Keys and Foreign Keys.\n",
    "\n",
    "The primary key uniquely identifies each record that exists in our tables.\n",
    "The foreign key is something that is able to prevent any action that could ruin the link between the two tables."
   ]
  },
  {
   "cell_type": "markdown",
   "metadata": {},
   "source": [
    "Question 5.\n",
    "Using EV Charging, For the folks who charged longer than one hour, show the min and max of the charging time for each user. Your output columns should be userid, minTime, and maxTime. Order this result set by the last two columns respectively. HINT: USE HAVING\n",
    "\n",
    "SELECT userId, MIN(chargeTimeHrs) as 'minhours', MAX(chargeTimeHrs) as 'maxHours'\n",
    "FROM EVCharging\n",
    "WHERE chargeTimeHrs > 1 \n",
    "GROUP BY userId\n",
    "ORDER BY 2,3"
   ]
  }
 ],
 "metadata": {
  "language_info": {
   "name": "python"
  }
 },
 "nbformat": 4,
 "nbformat_minor": 2
}
