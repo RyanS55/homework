{
 "cells": [
  {
   "cell_type": "markdown",
   "metadata": {},
   "source": [
    "1. It must be imported.\n",
    "2. Random import random RandNum = random.randrange(1,1000) print(RandNum)\n",
    "3. Exception handling helps make programs more convenient by fixing unexpected errors and stopping abrupt termination.\n",
    "4. Exception handling in Python is carried out through the use of try, except, else, and finally blocks. \n",
    "5. List\n",
    "6. NumPy arrays are faster and more compact than Python lists. This is because an array carries less memory.\n",
    "7. the elements in a singlular numpy array have to have the same data type.\n",
    "8. data analysis, counting\n",
    "9. Pandas\n",
    "10.The shape of an array is the number of elements in each dimension.\n",
    "11. an array with more than 3 dimensions.\n",
    "12. Consumes less memory, fast as compared to the python list and also convenient to use.\n",
    "13. An empty array has no elements. "
   ]
  },
  {
   "cell_type": "code",
   "execution_count": null,
   "metadata": {},
   "outputs": [],
   "source": []
  },
  {
   "cell_type": "code",
   "execution_count": 1,
   "metadata": {},
   "outputs": [
    {
     "name": "stdout",
     "output_type": "stream",
     "text": [
      "Renting a car is more affordable\n"
     ]
    }
   ],
   "source": [
    "1.\n",
    "age = 26\n",
    "if age >= 25:\n",
    "    print(\"Renting a car is more affordable\")\n",
    "else:\n",
    "    print(\"Renting a car is very expensive\")"
   ]
  },
  {
   "cell_type": "code",
   "execution_count": 24,
   "metadata": {},
   "outputs": [
    {
     "name": "stdout",
     "output_type": "stream",
     "text": [
      "Renting a car is more affordable.\n"
     ]
    }
   ],
   "source": [
    "2.\n",
    "if age >= 25:\n",
    "    print(\"Renting a car is more affordable.\")\n",
    "elif 18 <= age < 25:\n",
    "    print(\"Renting a car is very expensive.\")\n",
    "else:\n",
    "    print (\"You cannot legally rent a car.\")"
   ]
  },
  {
   "cell_type": "code",
   "execution_count": 36,
   "metadata": {},
   "outputs": [
    {
     "name": "stdout",
     "output_type": "stream",
     "text": [
      "43\n",
      "['e', 'u', 'i', 'o', 'o', 'u', 'o', 'e', 'e', 'a', 'y', 'o']\n"
     ]
    }
   ],
   "source": [
    "3. \n",
    "phrase = \"The quick brown fox jumps over the lazy dog\"\n",
    "\n",
    "charinphrase = 0\n",
    "for char in phrase:\n",
    "    charinphrase += 1\n",
    "print(charinphrase)\n",
    "\n",
    "vowelsinphrase = []\n",
    "for char in phrase:\n",
    "    if char == \"a\": vowelsinphrase.append(\"a\")\n",
    "    elif char == \"e\": vowelsinphrase.append(\"e\")\n",
    "    elif char == \"i\": vowelsinphrase.append(\"i\")\n",
    "    elif char == \"o\": vowelsinphrase.append(\"o\")\n",
    "    elif char == \"u\": vowelsinphrase.append(\"u\")\n",
    "    elif char == \"y\": vowelsinphrase.append(\"y\")\n",
    "print(vowelsinphrase)"
   ]
  },
  {
   "cell_type": "code",
   "execution_count": 14,
   "metadata": {},
   "outputs": [
    {
     "name": "stdout",
     "output_type": "stream",
     "text": [
      "trousers cerise\n",
      "trousers fuchsia\n",
      "trousers aqua\n",
      "trousers maple\n",
      "trousers auburn\n",
      "trousers burnt sienna\n",
      "trousers gunmetal blue\n",
      "trousers Dark Sapphire\n",
      "blouse cerise\n",
      "blouse fuchsia\n",
      "blouse aqua\n",
      "blouse maple\n",
      "blouse auburn\n",
      "blouse burnt sienna\n",
      "blouse gunmetal blue\n",
      "blouse Dark Sapphire\n",
      "bandana cerise\n",
      "bandana fuchsia\n",
      "bandana aqua\n",
      "bandana maple\n",
      "bandana auburn\n",
      "bandana burnt sienna\n",
      "bandana gunmetal blue\n",
      "bandana Dark Sapphire\n",
      "cumber band cerise\n",
      "cumber band fuchsia\n",
      "cumber band aqua\n",
      "cumber band maple\n",
      "cumber band auburn\n",
      "cumber band burnt sienna\n",
      "cumber band gunmetal blue\n",
      "cumber band Dark Sapphire\n",
      "blazer cerise\n",
      "blazer fuchsia\n",
      "blazer aqua\n",
      "blazer maple\n",
      "blazer auburn\n",
      "blazer burnt sienna\n",
      "blazer gunmetal blue\n",
      "blazer Dark Sapphire\n",
      "vest cerise\n",
      "vest fuchsia\n",
      "vest aqua\n",
      "vest maple\n",
      "vest auburn\n",
      "vest burnt sienna\n",
      "vest gunmetal blue\n",
      "vest Dark Sapphire\n",
      "french beret cerise\n",
      "french beret fuchsia\n",
      "french beret aqua\n",
      "french beret maple\n",
      "french beret auburn\n",
      "french beret burnt sienna\n",
      "french beret gunmetal blue\n",
      "french beret Dark Sapphire\n",
      "scarf cerise\n",
      "scarf fuchsia\n",
      "scarf aqua\n",
      "scarf maple\n",
      "scarf auburn\n",
      "scarf burnt sienna\n",
      "scarf gunmetal blue\n",
      "scarf Dark Sapphire\n",
      "stole cerise\n",
      "stole fuchsia\n",
      "stole aqua\n",
      "stole maple\n",
      "stole auburn\n",
      "stole burnt sienna\n",
      "stole gunmetal blue\n",
      "stole Dark Sapphire\n"
     ]
    }
   ],
   "source": [
    "4.\n",
    "\n",
    "couture = [\"trousers\", \"blouse\", \"bandana\", \"cumber band\", \"blazer\", \"vest\", \"french beret\", \"scarf\", \"stole\"]\n",
    "panettone = (\"cerise\", \"fuchsia\", \"aqua\", \"maple\", \"auburn\", \"burnt sienna\", \"gunmetal blue\", \"Dark Sapphire\")\n",
    "\n",
    "for list in couture:\n",
    "    for color in panettone:\n",
    "        print(list, color)"
   ]
  },
  {
   "cell_type": "code",
   "execution_count": 22,
   "metadata": {},
   "outputs": [
    {
     "name": "stdout",
     "output_type": "stream",
     "text": [
      "5050\n"
     ]
    }
   ],
   "source": [
    "5.\n",
    "count = 0\n",
    "for i in range(1,101):\n",
    "    count = i + count\n",
    "print(count)"
   ]
  },
  {
   "cell_type": "code",
   "execution_count": 21,
   "metadata": {},
   "outputs": [
    {
     "name": "stdout",
     "output_type": "stream",
     "text": [
      "banana\n"
     ]
    }
   ],
   "source": [
    "6.\n",
    "fruits_list = [\"apple\", \"banana\", \"cherry\"]\n",
    "print(fruits_list[1])\n"
   ]
  },
  {
   "cell_type": "code",
   "execution_count": 19,
   "metadata": {},
   "outputs": [
    {
     "name": "stdout",
     "output_type": "stream",
     "text": [
      "['kiwi', 'banana', 'cherry']\n"
     ]
    }
   ],
   "source": [
    "7.\n",
    "fruits = [\"apple\", \"banana\", \"cherry\"]\n",
    "fruits[0] = \"kiwi\"\n",
    "print(fruits)"
   ]
  },
  {
   "cell_type": "code",
   "execution_count": 20,
   "metadata": {},
   "outputs": [
    {
     "name": "stdout",
     "output_type": "stream",
     "text": [
      "['apple', 'banana', 'cherry', 'orange']\n"
     ]
    }
   ],
   "source": [
    "8. \n",
    "fruits = [\"apple\", \"banana\", \"cherry\"]\n",
    "\n",
    "fruits.append(\"orange\")\n",
    "print(fruits)"
   ]
  },
  {
   "cell_type": "code",
   "execution_count": 25,
   "metadata": {},
   "outputs": [
    {
     "name": "stdout",
     "output_type": "stream",
     "text": [
      "['apple', 'lemon', 'banana', 'cherry']\n"
     ]
    }
   ],
   "source": [
    "9.\n",
    "fruits = [\"apple\", \"banana\", \"cherry\"]\n",
    "\n",
    "fruits.insert(1, 'lemon')\n",
    "print(fruits)"
   ]
  },
  {
   "cell_type": "code",
   "execution_count": 26,
   "metadata": {},
   "outputs": [
    {
     "name": "stdout",
     "output_type": "stream",
     "text": [
      "['apple', 'cherry']\n"
     ]
    }
   ],
   "source": [
    "10.\n",
    "fruits = [\"apple\", \"banana\", \"cherry\"]\n",
    "\n",
    "fruits.remove(\"banana\")\n",
    "print(fruits)"
   ]
  },
  {
   "cell_type": "code",
   "execution_count": 27,
   "metadata": {},
   "outputs": [
    {
     "name": "stdout",
     "output_type": "stream",
     "text": [
      "melon\n",
      "kiwi\n"
     ]
    }
   ],
   "source": [
    "11.\n",
    "fruits = [\"apple\", \"banana\", \"cherry\", \"orange\", \"kiwi\", \"melon\", \"mango\"]\n",
    "\n",
    "print(fruits[-2])\n",
    "print(fruits[-3])"
   ]
  },
  {
   "cell_type": "code",
   "execution_count": 28,
   "metadata": {},
   "outputs": [
    {
     "name": "stdout",
     "output_type": "stream",
     "text": [
      "['cherry', 'orange', 'kiwi']\n"
     ]
    }
   ],
   "source": [
    "12.\n",
    "fruits = [\"apple\", \"banana\", \"cherry\", \"orange\", \"kiwi\", \"melon\", \"mango\"]\n",
    "\n",
    "print(fruits[2:5])"
   ]
  },
  {
   "cell_type": "code",
   "execution_count": 29,
   "metadata": {},
   "outputs": [
    {
     "name": "stdout",
     "output_type": "stream",
     "text": [
      "7\n"
     ]
    }
   ],
   "source": [
    "13.\n",
    "fruits = [\"apple\", \"banana\", \"cherry\", \"orange\", \"kiwi\", \"melon\", \"mango\"]\n",
    "\n",
    "print(len(fruits))"
   ]
  },
  {
   "cell_type": "code",
   "execution_count": 32,
   "metadata": {},
   "outputs": [
    {
     "name": "stdout",
     "output_type": "stream",
     "text": [
      "['orange', 'melon', 'mango', 'kiwi', 'cherry', 'banana', 'apple']\n"
     ]
    }
   ],
   "source": [
    "14.\n",
    "fruits = [\"apple\", \"banana\", \"cherry\", \"orange\", \"kiwi\", \"melon\", \"mango\"]\n",
    "\n",
    "fruits.sort(reverse=True)\n",
    "print(fruits)"
   ]
  },
  {
   "cell_type": "code",
   "execution_count": 31,
   "metadata": {},
   "outputs": [
    {
     "name": "stdout",
     "output_type": "stream",
     "text": [
      "May\n"
     ]
    }
   ],
   "source": [
    "15.\n",
    "from datetime import datetime\n",
    "current_time = datetime.now()\n",
    "current_month = current_time.strftime(\"%B\")\n",
    "print(current_month)"
   ]
  },
  {
   "cell_type": "code",
   "execution_count": 34,
   "metadata": {},
   "outputs": [
    {
     "name": "stdout",
     "output_type": "stream",
     "text": [
      "Hello Ryan ! Happy Saturday !\n",
      "Hello Ryan ! Happy Sunday !\n"
     ]
    }
   ],
   "source": [
    "16.\n",
    "def function1(first_name, day_name = \"Sunday\"):\n",
    "    print(\"Hello\", first_name, \"! Happy\", day_name, \"!\")\n",
    "\n",
    "function1(\"Ryan\", \"Saturday\")    \n",
    "function1(\"Ryan\")"
   ]
  },
  {
   "cell_type": "code",
   "execution_count": 38,
   "metadata": {},
   "outputs": [
    {
     "name": "stdout",
     "output_type": "stream",
     "text": [
      "Variable r is not defined\n",
      "This block will always execute\n"
     ]
    }
   ],
   "source": [
    "17. \n",
    "try:\n",
    "    print(r)\n",
    "except NameError:\n",
    "    print(\"Variable r is not defined\")\n",
    "else:\n",
    "    print(\"Try block executed successfully\")\n",
    "finally:\n",
    "    print(\"This block will always execute\")"
   ]
  }
 ],
 "metadata": {
  "kernelspec": {
   "display_name": "Python 3",
   "language": "python",
   "name": "python3"
  },
  "language_info": {
   "codemirror_mode": {
    "name": "ipython",
    "version": 3
   },
   "file_extension": ".py",
   "mimetype": "text/x-python",
   "name": "python",
   "nbconvert_exporter": "python",
   "pygments_lexer": "ipython3",
   "version": "3.12.3"
  }
 },
 "nbformat": 4,
 "nbformat_minor": 2
}
